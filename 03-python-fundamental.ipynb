{
 "cells": [
  {
   "cell_type": "markdown",
   "metadata": {
    "id": "Rl12uH-UEDKP"
   },
   "source": [
    "# Python Fundamental\n",
    "## Struktur Dasar Python, Variabel, dan Manipulasi String\n"
   ]
  },
  {
   "cell_type": "markdown",
   "metadata": {
    "id": "ZLtZs8Z-EDKQ"
   },
   "source": [
    "### 1. Pengenalan Python\n",
    "Python adalah bahasa pemrograman yang sederhana dan mudah dibaca. Cocok untuk pemula karena sintaksnya menyerupai bahasa sehari-hari. Python digunakan untuk berbagai kebutuhan seperti pengembangan web, data science, AI, dan otomasi.\n"
   ]
  },
  {
   "cell_type": "markdown",
   "metadata": {
    "id": "Y9MDsLmTEDKQ"
   },
   "source": [
    "### 2. Struktur Dasar Program Python\n",
    "- Python membaca kode dari atas ke bawah.\n",
    "- Python menggunakan indentasi (spasi/tab) untuk menentukan blok kode.\n",
    "- Komentar ditandai dengan `#` dan tidak akan dijalankan oleh program.\n"
   ]
  },
  {
   "cell_type": "markdown",
   "metadata": {
    "id": "j5PQbGmCEDKQ"
   },
   "source": [
    "#### **Print Statement**\n",
    "\n",
    "Untuk mencetak teks ke layar, gunakan fungsi print()."
   ]
  },
  {
   "cell_type": "code",
   "execution_count": 1,
   "metadata": {
    "id": "l91zqXKtEDKR"
   },
   "outputs": [
    {
     "name": "stdout",
     "output_type": "stream",
     "text": [
      "Halo, dunia!\n"
     ]
    }
   ],
   "source": [
    "# Menampilkan pesan ke layar\n",
    "print(\"Halo, dunia!\")"
   ]
  },
  {
   "cell_type": "markdown",
   "metadata": {
    "id": "qu1t6LeaEDKS"
   },
   "source": [
    "#### **Komentar**\n",
    "\n",
    "Komentar adalah baris kode yang tidak dieksekusi oleh Python. Biasanya digunakan untuk menjelaskan kode."
   ]
  },
  {
   "cell_type": "code",
   "execution_count": null,
   "metadata": {
    "id": "anBjFjNREDKS"
   },
   "outputs": [],
   "source": [
    "# Ini adalah komentar\n",
    "print(\"Hello, World!\")  # Komentar juga bisa di akhir baris"
   ]
  },
  {
   "cell_type": "markdown",
   "metadata": {
    "id": "M-C7KI7bEDKS"
   },
   "source": [
    "#### **Indentasi dalam Python**\n",
    "\n",
    "Python menggunakan **indentasi** untuk menentukan blok kode."
   ]
  },
  {
   "cell_type": "code",
   "execution_count": 2,
   "metadata": {
    "id": "lNPUzZSUEDKT"
   },
   "outputs": [
    {
     "name": "stdout",
     "output_type": "stream",
     "text": [
      "Indentasi adalah wajib!\n"
     ]
    }
   ],
   "source": [
    "if True:\n",
    "    print(\"Indentasi adalah wajib!\")  # Indentasi dengan spasi/tab"
   ]
  },
  {
   "cell_type": "markdown",
   "metadata": {
    "id": "sc1TQcWJEDKT"
   },
   "source": [
    "### 3. Variabel\n",
    "Variabel adalah tempat menyimpan data. Dalam Python, kita bisa langsung membuat variabel tanpa harus menentukan tipe datanya terlebih dahulu.\n"
   ]
  },
  {
   "cell_type": "markdown",
   "metadata": {
    "id": "Es2UYSfJEDKT"
   },
   "source": [
    "Contoh:\n",
    "```python\n",
    "nama = \"Mareta\"\n",
    "usia = 22\n",
    "tinggi = 160.5\n",
    "```\n"
   ]
  },
  {
   "cell_type": "markdown",
   "metadata": {
    "id": "W6nbtuFeEDKT"
   },
   "source": [
    "Penjelasan:\n",
    "- `nama` adalah variabel bertipe string.\n",
    "- `usia` adalah variabel bertipe integer.\n",
    "- `tinggi` adalah variabel bertipe float.\n"
   ]
  },
  {
   "cell_type": "markdown",
   "metadata": {
    "id": "ck6MDWSaEDKT"
   },
   "source": [
    "### 4. Tipe Data Dasar\n",
    "| Tipe Data | Contoh | Keterangan |\n",
    "|----------|--------|------------|\n",
    "| String   | \"Halo\" | Teks atau kumpulan karakter |\n",
    "| Integer  | 10     | Bilangan bulat |\n",
    "| Float    | 3.14   | Bilangan desimal |\n",
    "| Boolean  | True / False | Nilai benar atau salah |\n"
   ]
  },
  {
   "cell_type": "markdown",
   "metadata": {
    "id": "h5tZrLQlEDKT"
   },
   "source": [
    "### 5. Operasi pada String (String Manipulation)\n",
    "String dapat dimanipulasi dengan berbagai cara seperti penggabungan, pengubahan huruf, atau pengambilan karakter tertentu.\n"
   ]
  },
  {
   "cell_type": "markdown",
   "metadata": {
    "id": "a9ahvaWVEDKT"
   },
   "source": [
    "### **Concatenation (+)**\n",
    "Menggabungkan string dengan +."
   ]
  },
  {
   "cell_type": "code",
   "execution_count": null,
   "metadata": {
    "id": "xcwfp8JzEDKT",
    "outputId": "eac2d6a4-17e6-48a1-923f-bb58f35e6fe1"
   },
   "outputs": [
    {
     "ename": "SyntaxError",
     "evalue": "unterminated f-string literal (detected at line 1) (937214935.py, line 1)",
     "output_type": "error",
     "traceback": [
      "  \u001b[36mCell\u001b[39m\u001b[36m \u001b[39m\u001b[32mIn[5]\u001b[39m\u001b[32m, line 1\u001b[39m\n\u001b[31m    \u001b[39m\u001b[31mnama_depan = f\"Mareta ascasc\u001b[39m\n                 ^\n\u001b[31mSyntaxError\u001b[39m\u001b[31m:\u001b[39m unterminated f-string literal (detected at line 1)\n"
     ]
    }
   ],
   "source": [
    "nama_depan = \"Mareta\"\n",
    "nama_belakang = \"Ayu\"\n",
    "nama_lengkap = nama_depan + \" \" + nama_belakang\n",
    "print(nama_lengkap)"
   ]
  },
  {
   "cell_type": "markdown",
   "metadata": {
    "id": "ZAJEQUSSEDKU"
   },
   "source": [
    "### **Interpolation (f-string)**\n",
    "Cara lebih bersih untuk menggabungkan string dan variabel."
   ]
  },
  {
   "cell_type": "code",
   "execution_count": 7,
   "metadata": {
    "id": "P4muGHcVEDKU"
   },
   "outputs": [
    {
     "name": "stdout",
     "output_type": "stream",
     "text": [
      "Nama saya Mareta dan umur saya 22 tahun.\n"
     ]
    }
   ],
   "source": [
    "nama = \"Mareta\"\n",
    "umur = 22\n",
    "print(f\"Nama saya {nama} dan umur saya {umur} tahun.\")\n",
    "# Output: Nama saya Mareta dan umur saya 22 tahun."
   ]
  },
  {
   "cell_type": "markdown",
   "metadata": {
    "id": "cZ9XDWHfEDKU"
   },
   "source": [
    "### **Multiline f-string**\n",
    "F-string juga bisa digunakan untuk teks dengan banyak baris menggunakan tanda triple quotes (`'''` atau `\"\"\"`)"
   ]
  },
  {
   "cell_type": "code",
   "execution_count": 8,
   "metadata": {
    "id": "lM5oCQ1_EDKU"
   },
   "outputs": [
    {
     "name": "stdout",
     "output_type": "stream",
     "text": [
      "\n",
      "BIODATA\n",
      "================\n",
      "Nama        : Mareta\n",
      "Umur        : 25 tahun\n",
      "Hobi        : membaca\n",
      "\n"
     ]
    }
   ],
   "source": [
    "nama = \"Mareta\"\n",
    "umur = 25\n",
    "hobi = \"membaca\"\n",
    "\n",
    "# Contoh multiline f-string dengan triple quotes\n",
    "biodata = f\"\"\"\n",
    "BIODATA\n",
    "================\n",
    "Nama        : {nama}\n",
    "Umur        : {umur} tahun\n",
    "Hobi        : {hobi}\n",
    "\"\"\"\n",
    "\n",
    "print(biodata)"
   ]
  },
  {
   "cell_type": "markdown",
   "metadata": {
    "id": "2_hc9AFWEDKU"
   },
   "source": [
    "### **len()**\n",
    "Menghitung panjang string (termasuk spasi)."
   ]
  },
  {
   "cell_type": "code",
   "execution_count": null,
   "metadata": {
    "id": "nFPfXmnyEDKU"
   },
   "outputs": [],
   "source": [
    "teks = \"Python\"\n",
    "print(len(teks))"
   ]
  },
  {
   "cell_type": "markdown",
   "metadata": {
    "id": "VipmWWXWEDKU"
   },
   "source": [
    "### **lower()**\n",
    "Mengubah semua huruf menjadi kecil."
   ]
  },
  {
   "cell_type": "code",
   "execution_count": 9,
   "metadata": {
    "id": "D2R_qA8kEDKV"
   },
   "outputs": [
    {
     "name": "stdout",
     "output_type": "stream",
     "text": [
      "halo dunia\n"
     ]
    }
   ],
   "source": [
    "teks = \"Halo Dunia\"\n",
    "print(teks.lower())"
   ]
  },
  {
   "cell_type": "markdown",
   "metadata": {
    "id": "mqr-3pY9EDKV"
   },
   "source": [
    "### **strip()**\n",
    "Menghapus spasi di awal dan akhir string."
   ]
  },
  {
   "cell_type": "code",
   "execution_count": 12,
   "metadata": {
    "id": "uzN01ocjEDKV"
   },
   "outputs": [
    {
     "name": "stdout",
     "output_type": "stream",
     "text": [
      "Python\n"
     ]
    }
   ],
   "source": [
    "teks = \"   Python  \"\n",
    "print(teks.strip())"
   ]
  },
  {
   "cell_type": "markdown",
   "metadata": {
    "id": "0fDAWZfxEDKV"
   },
   "source": [
    "### **replace()**\n",
    "Mengganti teks dalam string."
   ]
  },
  {
   "cell_type": "code",
   "execution_count": 11,
   "metadata": {
    "id": "RUqV_WFKEDKV"
   },
   "outputs": [
    {
     "name": "stdout",
     "output_type": "stream",
     "text": [
      "Saya suka teh\n"
     ]
    }
   ],
   "source": [
    "teks = \"Saya suka kopi\"\n",
    "print(teks.replace(\"kopi\", \"teh\"))"
   ]
  },
  {
   "cell_type": "markdown",
   "metadata": {
    "id": "qrkmE7xfEDKV"
   },
   "source": [
    "### **upper()**\n",
    "Mengubah semua huruf menjadi besar."
   ]
  },
  {
   "cell_type": "code",
   "execution_count": 10,
   "metadata": {
    "id": "YTEuw0koEDKV"
   },
   "outputs": [
    {
     "name": "stdout",
     "output_type": "stream",
     "text": [
      "PYTHON\n"
     ]
    }
   ],
   "source": [
    "teks = \"python\"\n",
    "print(teks.upper())"
   ]
  },
  {
   "cell_type": "markdown",
   "metadata": {
    "id": "BMmai3AcEDKV"
   },
   "source": [
    "### **Chaining**\n",
    "Menggabungkan beberapa metode string."
   ]
  },
  {
   "cell_type": "code",
   "execution_count": 13,
   "metadata": {
    "id": "ZtW3n43uEDKV"
   },
   "outputs": [
    {
     "name": "stdout",
     "output_type": "stream",
     "text": [
      "hi dunia!\n"
     ]
    }
   ],
   "source": [
    "teks = \"   Halo Dunia!   \"\n",
    "hasil = teks.strip().lower().replace(\"halo\", \"hi\")\n",
    "print(hasil)  # Output: hi dunia!\n",
    "\n",
    "# Penjelasan\n",
    "# step by step:\n",
    "# 1. teks strip (untuk ngilangin space) -> Halo Dunia!\n",
    "# 2. lower() -> untuk konversi ke karakter kecil -> halo dunia!\n",
    "# 3. replace() -> dia akan ganti karakter -> hi dunia!"
   ]
  },
  {
   "cell_type": "markdown",
   "metadata": {
    "id": "8jNXrBF3EDKV"
   },
   "source": [
    "# Tantangan\n",
    "Yuk kerjakan beberapa tantangan di bawah ini! Sebelum mengerjakan tantangan, jangan lupa masukkan student ID kamu ya!"
   ]
  },
  {
   "cell_type": "code",
   "execution_count": 21,
   "metadata": {
    "id": "exiBS1QrEDKV"
   },
   "outputs": [
    {
     "name": "stdout",
     "output_type": "stream",
     "text": [
      "Requirement already satisfied: rggrader in /home/codespace/.python/current/lib/python3.12/site-packages (0.1.6)\n",
      "Requirement already satisfied: requests in /home/codespace/.local/lib/python3.12/site-packages (from rggrader) (2.32.3)\n",
      "Requirement already satisfied: pandas in /home/codespace/.local/lib/python3.12/site-packages (from rggrader) (2.2.3)\n",
      "Requirement already satisfied: Pillow in /home/codespace/.local/lib/python3.12/site-packages (from rggrader) (11.1.0)\n",
      "Requirement already satisfied: numpy>=1.26.0 in /home/codespace/.local/lib/python3.12/site-packages (from pandas->rggrader) (2.2.4)\n",
      "Requirement already satisfied: python-dateutil>=2.8.2 in /home/codespace/.local/lib/python3.12/site-packages (from pandas->rggrader) (2.9.0.post0)\n",
      "Requirement already satisfied: pytz>=2020.1 in /home/codespace/.local/lib/python3.12/site-packages (from pandas->rggrader) (2025.1)\n",
      "Requirement already satisfied: tzdata>=2022.7 in /home/codespace/.local/lib/python3.12/site-packages (from pandas->rggrader) (2025.1)\n",
      "Requirement already satisfied: charset-normalizer<4,>=2 in /home/codespace/.local/lib/python3.12/site-packages (from requests->rggrader) (3.4.1)\n",
      "Requirement already satisfied: idna<4,>=2.5 in /home/codespace/.local/lib/python3.12/site-packages (from requests->rggrader) (3.10)\n",
      "Requirement already satisfied: urllib3<3,>=1.21.1 in /home/codespace/.local/lib/python3.12/site-packages (from requests->rggrader) (2.3.0)\n",
      "Requirement already satisfied: certifi>=2017.4.17 in /home/codespace/.local/lib/python3.12/site-packages (from requests->rggrader) (2025.1.31)\n",
      "Requirement already satisfied: six>=1.5 in /home/codespace/.local/lib/python3.12/site-packages (from python-dateutil>=2.8.2->pandas->rggrader) (1.17.0)\n",
      "\n",
      "\u001b[1m[\u001b[0m\u001b[34;49mnotice\u001b[0m\u001b[1;39;49m]\u001b[0m\u001b[39;49m A new release of pip is available: \u001b[0m\u001b[31;49m25.0.1\u001b[0m\u001b[39;49m -> \u001b[0m\u001b[32;49m25.1.1\u001b[0m\n",
      "\u001b[1m[\u001b[0m\u001b[34;49mnotice\u001b[0m\u001b[1;39;49m]\u001b[0m\u001b[39;49m To update, run: \u001b[0m\u001b[32;49mpip install --upgrade pip\u001b[0m\n",
      "Note: you may need to restart the kernel to use updated packages.\n"
     ]
    }
   ],
   "source": [
    "%pip install rggrader\n",
    "\n",
    "from rggrader import submit\n",
    "\n",
    "# @title #### Student Identity\n",
    "student_id = \"REAPYTHON1BJRDH\"  # @param {type:\"string\"}\n",
    "name = \"Ikbal F\"  # @param {type:\"string\"}"
   ]
  },
  {
   "cell_type": "markdown",
   "metadata": {
    "id": "wwRBOSpMEDKV"
   },
   "source": [
    "## Tantangan 1: Pengubah String\n",
    "\n",
    "Buatlah program yang mengubah sebuah string input dengan ketentuan berikut:\n",
    "1. Hapus spasi di awal dan akhir string\n",
    "2. Ubah semua huruf menjadi kapital\n",
    "3. Ganti kata 'DAN' dengan '&'\n",
    "\n",
    "Contoh:\n",
    "- Input: '  Budi dan Ani  '\n",
    "- Output yang diharapkan: 'BUDI & ANI'"
   ]
  },
  {
   "cell_type": "code",
   "execution_count": 22,
   "metadata": {
    "id": "N4jr2eGqEDKW"
   },
   "outputs": [
    {
     "name": "stdout",
     "output_type": "stream",
     "text": [
      "PYTHON & JAVASCRIPT\n"
     ]
    },
    {
     "data": {
      "text/plain": [
       "'Assignment successfully submitted'"
      ]
     },
     "execution_count": 22,
     "metadata": {},
     "output_type": "execute_result"
    }
   ],
   "source": [
    "# @title #### 01. Pengubah String\n",
    "from rggrader import submit\n",
    "\n",
    "input_text = \"  Python dan JavaScript  \"\n",
    "\n",
    "# TODO:\n",
    "# Ubah input_text sesuai ketentuan berikut:\n",
    "# 1. Hapus spasi di awal dan akhir string\n",
    "# 2. Ubah semua huruf menjadi kapital\n",
    "# 3. Ganti kata 'DAN' dengan '&'\n",
    "# Simpan hasilnya dalam variabel 'transformed_text'\n",
    "#\n",
    "# Expected Output:\n",
    "# transformed_text = \"PYTHON & JAVASCRIPT\"  # Perhatikan: harus exact sama dengan output ini\n",
    "\n",
    "# Tulis kode kamu di sini:\n",
    "transformed_text = input_text.strip().upper().replace(\"DAN\", \"&\")\n",
    "print(transformed_text)\n",
    "# ---- Akhir dari kode kamu ----\n",
    "\n",
    "# Submit Method\n",
    "assignment_id = \"03_python-fundamental\"\n",
    "question_id = \"01_string_transformer\"\n",
    "submit(student_id, name, assignment_id, transformed_text, question_id)"
   ]
  },
  {
   "cell_type": "markdown",
   "metadata": {
    "id": "Qli1-iuCEDKW"
   },
   "source": [
    "## Tantangan 2: Generator Biodata\n",
    "\n",
    "Buatlah program yang menghasilkan biodata lengkap menggunakan f-string dari variabel-variabel yang diberikan.\n",
    "Format output harus sesuai dengan contoh berikut:\n",
    "\n",
    "Contoh output yang diharapkan:\n",
    "```\n",
    "BIODATA LENGKAP\n",
    "Nama    : John Doe\n",
    "Usia    : 25 tahun\n",
    "Tinggi  : 170.5 cm\n",
    "Status  : Aktif\n",
    "```"
   ]
  },
  {
   "cell_type": "code",
   "execution_count": 23,
   "metadata": {
    "id": "O_D_LOPpEDKc"
   },
   "outputs": [
    {
     "name": "stdout",
     "output_type": "stream",
     "text": [
      "\n",
      "BIODATA LENGKAP\n",
      "Nama    : John Doe\n",
      "Usia    : 25 tahun\n",
      "Tinggi  : 170.5 cm\n",
      "Status  : Aktif\n",
      "\n"
     ]
    },
    {
     "data": {
      "text/plain": [
       "'Assignment successfully submitted'"
      ]
     },
     "execution_count": 23,
     "metadata": {},
     "output_type": "execute_result"
    }
   ],
   "source": [
    "# @title #### 02. Generator Biodata\n",
    "from rggrader import submit\n",
    "\n",
    "# Variabel yang diberikan\n",
    "nama = \"John Doe\"\n",
    "usia = 25\n",
    "tinggi = 170.5\n",
    "status = \"Aktif\"\n",
    "\n",
    "# TODO:\n",
    "# Buat biodata terformat menggunakan f-string\n",
    "# Format output harus sesuai dengan contoh\n",
    "# Simpan hasilnya dalam variabel 'biodata'\n",
    "\n",
    "# Output setelah di-print akan terlihat seperti ini:\n",
    "# BIODATA LENGKAP\n",
    "# Nama    : John Doe\n",
    "# Usia    : 25 tahun\n",
    "# Tinggi  : 170.5 cm\n",
    "# Status  : Aktif\n",
    "\n",
    "# Tulis kode kamu di sini:\n",
    "biodata = f\"\"\"\n",
    "BIODATA LENGKAP\n",
    "Nama    : John Doe\n",
    "Usia    : 25 tahun\n",
    "Tinggi  : 170.5 cm\n",
    "Status  : Aktif\n",
    "\"\"\"\n",
    "# ---- Akhir dari kode kamu ----\n",
    "print(biodata)\n",
    "# Submit Method\n",
    "assignment_id = \"03_python-fundamental\"\n",
    "question_id = \"02_biodata-generator\"\n",
    "submit(student_id, name, assignment_id, biodata, question_id)"
   ]
  },
  {
   "cell_type": "markdown",
   "metadata": {
    "id": "7zjx9ItQEDKc"
   },
   "source": [
    "## Tantangan 3: Kalkulator String\n",
    "\n",
    "Buatlah program yang mengubah operasi penjumlahan menjadi kalimat yang menjelaskan operasi tersebut.\n",
    "\n",
    "Contoh:\n",
    "- Input: num1 = 10, num2 = 5\n",
    "- Output yang diharapkan: \"Hasil dari 10 tambah 5 adalah 15\""
   ]
  },
  {
   "cell_type": "code",
   "execution_count": 24,
   "metadata": {
    "id": "3h0Wm1u1EDKc"
   },
   "outputs": [
    {
     "name": "stdout",
     "output_type": "stream",
     "text": [
      "Hasil dari 10 tambah 5 adalah 15\n"
     ]
    },
    {
     "data": {
      "text/plain": [
       "'Assignment successfully submitted'"
      ]
     },
     "execution_count": 24,
     "metadata": {},
     "output_type": "execute_result"
    }
   ],
   "source": [
    "# @title #### 03. Kalkulator String\n",
    "from rggrader import submit\n",
    "\n",
    "# Variabel yang diberikan\n",
    "num1 = 10\n",
    "num2 = 5\n",
    "\n",
    "# TODO:\n",
    "# Buat kalimat yang menjelaskan operasi penjumlahan\n",
    "# Gunakan f-string untuk membuat kalimat yang menjelaskan operasi penjumlahan\n",
    "# dari num1 dan num2, lalu simpan hasilnya dalam variabel 'explanation'\n",
    "#\n",
    "# Expected Output:\n",
    "# explanation = \"Hasil dari 10 tambah 5 adalah 15\"\n",
    "#\n",
    "# Perhatikan:\n",
    "# - Spasi dan tanda baca harus sama persis!\n",
    "# - Format kalimat harus sesuai: \"Hasil dari {num1} tambah {num2} adalah {hasil}\"\n",
    "\n",
    "# Tulis kode kamu di sini:\n",
    "explanation = f\"Hasil dari {num1} tambah {num2} adalah {num1+num2}\"\n",
    "print(explanation)\n",
    "# ---- Akhir dari kode kamu ----\n",
    "\n",
    "# Submit Method\n",
    "assignment_id = \"03_python-fundamental\"\n",
    "question_id = \"03_string-calculator\"\n",
    "submit(student_id, name, assignment_id, explanation, question_id)"
   ]
  }
 ],
 "metadata": {
  "colab": {
   "provenance": []
  },
  "kernelspec": {
   "display_name": "Python 3",
   "language": "python",
   "name": "python3"
  },
  "language_info": {
   "codemirror_mode": {
    "name": "ipython",
    "version": 3
   },
   "file_extension": ".py",
   "mimetype": "text/x-python",
   "name": "python",
   "nbconvert_exporter": "python",
   "pygments_lexer": "ipython3",
   "version": "3.12.1"
  }
 },
 "nbformat": 4,
 "nbformat_minor": 0
}
