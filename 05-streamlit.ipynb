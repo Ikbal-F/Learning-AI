{
 "cells": [
  {
   "cell_type": "markdown",
   "id": "9f8d21c8",
   "metadata": {},
   "source": [
    "# Building UI in Python dengan Streamlit\n",
    "Streamlit adalah library Python open-source yang digunakan untuk membuat antarmuka pengguna (UI) berbasis web dengan cepat dan mudah. Dengan hanya beberapa baris kode Python, kamu bisa membuat dashboard interaktif, aplikasi data science, bahkan aplikasi berbasis AI."
   ]
  },
  {
   "cell_type": "markdown",
   "id": "982ae992",
   "metadata": {},
   "source": [
    "## Kenapa Streamlit?\n",
    "- Gak perlu tahu HTML, CSS, atau JavaScript.\n",
    "- Semudah nulis script Python biasa.\n",
    "- Bisa langsung melihat hasilnya secara real-time di browser.\n",
    "- Cocok untuk prototipe aplikasi atau project akhir.\n"
   ]
  },
  {
   "cell_type": "markdown",
   "id": "8612d028",
   "metadata": {},
   "source": [
    "## Instalasi & Setup Awal\n",
    "### 1. Instalasi Streamlit\n",
    "Sebelum mulai, pastikan Python dan pip sudah terinstall. Kalau belum, bisa install Python dari https://python.org.\n",
    "Lalu install Streamlit lewat terminal / command prompt:\n",
    "```\n",
    "    pip install streamlit\n",
    "```\n",
    "\n",
    "### 2. Cek Instalasi\n",
    "Setelah selesai, jalankan:\n",
    "```\n",
    "    streamlit hello\n",
    "```\n",
    "Kalau berhasil, akan terbuka jendela browser dengan demo Streamlit."
   ]
  },
  {
   "cell_type": "code",
   "execution_count": 2,
   "id": "6818142d",
   "metadata": {},
   "outputs": [
    {
     "name": "stdout",
     "output_type": "stream",
     "text": [
      "Collecting streamlit\n",
      "  Downloading streamlit-1.45.1-py3-none-any.whl.metadata (8.9 kB)\n",
      "Collecting altair<6,>=4.0 (from streamlit)\n",
      "  Downloading altair-5.5.0-py3-none-any.whl.metadata (11 kB)\n",
      "Collecting blinker<2,>=1.5.0 (from streamlit)\n",
      "  Downloading blinker-1.9.0-py3-none-any.whl.metadata (1.6 kB)\n",
      "Collecting cachetools<6,>=4.0 (from streamlit)\n",
      "  Downloading cachetools-5.5.2-py3-none-any.whl.metadata (5.4 kB)\n",
      "Collecting click<9,>=7.0 (from streamlit)\n",
      "  Downloading click-8.2.1-py3-none-any.whl.metadata (2.5 kB)\n",
      "Requirement already satisfied: numpy<3,>=1.23 in /home/codespace/.local/lib/python3.12/site-packages (from streamlit) (2.2.4)\n",
      "Requirement already satisfied: packaging<25,>=20 in /home/codespace/.local/lib/python3.12/site-packages (from streamlit) (24.2)\n",
      "Requirement already satisfied: pandas<3,>=1.4.0 in /home/codespace/.local/lib/python3.12/site-packages (from streamlit) (2.2.3)\n",
      "Requirement already satisfied: pillow<12,>=7.1.0 in /home/codespace/.local/lib/python3.12/site-packages (from streamlit) (11.1.0)\n",
      "Collecting protobuf<7,>=3.20 (from streamlit)\n",
      "  Downloading protobuf-6.31.1-cp39-abi3-manylinux2014_x86_64.whl.metadata (593 bytes)\n",
      "Collecting pyarrow>=7.0 (from streamlit)\n",
      "  Downloading pyarrow-20.0.0-cp312-cp312-manylinux_2_28_x86_64.whl.metadata (3.3 kB)\n",
      "Requirement already satisfied: requests<3,>=2.27 in /home/codespace/.local/lib/python3.12/site-packages (from streamlit) (2.32.3)\n",
      "Collecting tenacity<10,>=8.1.0 (from streamlit)\n",
      "  Downloading tenacity-9.1.2-py3-none-any.whl.metadata (1.2 kB)\n",
      "Collecting toml<2,>=0.10.1 (from streamlit)\n",
      "  Downloading toml-0.10.2-py2.py3-none-any.whl.metadata (7.1 kB)\n",
      "Requirement already satisfied: typing-extensions<5,>=4.4.0 in /home/codespace/.local/lib/python3.12/site-packages (from streamlit) (4.12.2)\n",
      "Collecting watchdog<7,>=2.1.5 (from streamlit)\n",
      "  Downloading watchdog-6.0.0-py3-none-manylinux2014_x86_64.whl.metadata (44 kB)\n",
      "Requirement already satisfied: gitpython!=3.1.19,<4,>=3.0.7 in /home/codespace/.local/lib/python3.12/site-packages (from streamlit) (3.1.44)\n",
      "Collecting pydeck<1,>=0.8.0b4 (from streamlit)\n",
      "  Downloading pydeck-0.9.1-py2.py3-none-any.whl.metadata (4.1 kB)\n",
      "Requirement already satisfied: tornado<7,>=6.0.3 in /home/codespace/.local/lib/python3.12/site-packages (from streamlit) (6.4.2)\n",
      "Requirement already satisfied: jinja2 in /home/codespace/.local/lib/python3.12/site-packages (from altair<6,>=4.0->streamlit) (3.1.6)\n",
      "Requirement already satisfied: jsonschema>=3.0 in /home/codespace/.local/lib/python3.12/site-packages (from altair<6,>=4.0->streamlit) (4.23.0)\n",
      "Requirement already satisfied: narwhals>=1.14.2 in /home/codespace/.local/lib/python3.12/site-packages (from altair<6,>=4.0->streamlit) (1.31.0)\n",
      "Requirement already satisfied: gitdb<5,>=4.0.1 in /home/codespace/.local/lib/python3.12/site-packages (from gitpython!=3.1.19,<4,>=3.0.7->streamlit) (4.0.12)\n",
      "Requirement already satisfied: python-dateutil>=2.8.2 in /home/codespace/.local/lib/python3.12/site-packages (from pandas<3,>=1.4.0->streamlit) (2.9.0.post0)\n",
      "Requirement already satisfied: pytz>=2020.1 in /home/codespace/.local/lib/python3.12/site-packages (from pandas<3,>=1.4.0->streamlit) (2025.1)\n",
      "Requirement already satisfied: tzdata>=2022.7 in /home/codespace/.local/lib/python3.12/site-packages (from pandas<3,>=1.4.0->streamlit) (2025.1)\n",
      "Requirement already satisfied: charset-normalizer<4,>=2 in /home/codespace/.local/lib/python3.12/site-packages (from requests<3,>=2.27->streamlit) (3.4.1)\n",
      "Requirement already satisfied: idna<4,>=2.5 in /home/codespace/.local/lib/python3.12/site-packages (from requests<3,>=2.27->streamlit) (3.10)\n",
      "Requirement already satisfied: urllib3<3,>=1.21.1 in /home/codespace/.local/lib/python3.12/site-packages (from requests<3,>=2.27->streamlit) (2.3.0)\n",
      "Requirement already satisfied: certifi>=2017.4.17 in /home/codespace/.local/lib/python3.12/site-packages (from requests<3,>=2.27->streamlit) (2025.1.31)\n",
      "Requirement already satisfied: smmap<6,>=3.0.1 in /home/codespace/.local/lib/python3.12/site-packages (from gitdb<5,>=4.0.1->gitpython!=3.1.19,<4,>=3.0.7->streamlit) (5.0.2)\n",
      "Requirement already satisfied: MarkupSafe>=2.0 in /home/codespace/.local/lib/python3.12/site-packages (from jinja2->altair<6,>=4.0->streamlit) (3.0.2)\n",
      "Requirement already satisfied: attrs>=22.2.0 in /home/codespace/.local/lib/python3.12/site-packages (from jsonschema>=3.0->altair<6,>=4.0->streamlit) (25.3.0)\n",
      "Requirement already satisfied: jsonschema-specifications>=2023.03.6 in /home/codespace/.local/lib/python3.12/site-packages (from jsonschema>=3.0->altair<6,>=4.0->streamlit) (2024.10.1)\n",
      "Requirement already satisfied: referencing>=0.28.4 in /home/codespace/.local/lib/python3.12/site-packages (from jsonschema>=3.0->altair<6,>=4.0->streamlit) (0.36.2)\n",
      "Requirement already satisfied: rpds-py>=0.7.1 in /home/codespace/.local/lib/python3.12/site-packages (from jsonschema>=3.0->altair<6,>=4.0->streamlit) (0.23.1)\n",
      "Requirement already satisfied: six>=1.5 in /home/codespace/.local/lib/python3.12/site-packages (from python-dateutil>=2.8.2->pandas<3,>=1.4.0->streamlit) (1.17.0)\n",
      "Downloading streamlit-1.45.1-py3-none-any.whl (9.9 MB)\n",
      "\u001b[2K   \u001b[90m━━━━━━━━━━━━━━━━━━━━━━━━━━━━━━━━━━━━━━━━\u001b[0m \u001b[32m9.9/9.9 MB\u001b[0m \u001b[31m52.7 MB/s\u001b[0m eta \u001b[36m0:00:00\u001b[0m\n",
      "\u001b[?25hDownloading altair-5.5.0-py3-none-any.whl (731 kB)\n",
      "\u001b[2K   \u001b[90m━━━━━━━━━━━━━━━━━━━━━━━━━━━━━━━━━━━━━━━━\u001b[0m \u001b[32m731.2/731.2 kB\u001b[0m \u001b[31m29.4 MB/s\u001b[0m eta \u001b[36m0:00:00\u001b[0m\n",
      "\u001b[?25hDownloading blinker-1.9.0-py3-none-any.whl (8.5 kB)\n",
      "Downloading cachetools-5.5.2-py3-none-any.whl (10 kB)\n",
      "Downloading click-8.2.1-py3-none-any.whl (102 kB)\n",
      "Downloading protobuf-6.31.1-cp39-abi3-manylinux2014_x86_64.whl (321 kB)\n",
      "Downloading pyarrow-20.0.0-cp312-cp312-manylinux_2_28_x86_64.whl (42.3 MB)\n",
      "\u001b[2K   \u001b[90m━━━━━━━━━━━━━━━━━━━━━━━━━━━━━━━━━━━━━━━━\u001b[0m \u001b[32m42.3/42.3 MB\u001b[0m \u001b[31m53.6 MB/s\u001b[0m eta \u001b[36m0:00:00\u001b[0m:00:01\u001b[0m\n",
      "\u001b[?25hDownloading pydeck-0.9.1-py2.py3-none-any.whl (6.9 MB)\n",
      "\u001b[2K   \u001b[90m━━━━━━━━━━━━━━━━━━━━━━━━━━━━━━━━━━━━━━━━\u001b[0m \u001b[32m6.9/6.9 MB\u001b[0m \u001b[31m37.5 MB/s\u001b[0m eta \u001b[36m0:00:00\u001b[0m\n",
      "\u001b[?25hDownloading tenacity-9.1.2-py3-none-any.whl (28 kB)\n",
      "Downloading toml-0.10.2-py2.py3-none-any.whl (16 kB)\n",
      "Downloading watchdog-6.0.0-py3-none-manylinux2014_x86_64.whl (79 kB)\n",
      "Installing collected packages: watchdog, toml, tenacity, pyarrow, protobuf, click, cachetools, blinker, pydeck, altair, streamlit\n",
      "Successfully installed altair-5.5.0 blinker-1.9.0 cachetools-5.5.2 click-8.2.1 protobuf-6.31.1 pyarrow-20.0.0 pydeck-0.9.1 streamlit-1.45.1 tenacity-9.1.2 toml-0.10.2 watchdog-6.0.0\n",
      "\n",
      "\u001b[1m[\u001b[0m\u001b[34;49mnotice\u001b[0m\u001b[1;39;49m]\u001b[0m\u001b[39;49m A new release of pip is available: \u001b[0m\u001b[31;49m25.0.1\u001b[0m\u001b[39;49m -> \u001b[0m\u001b[32;49m25.1.1\u001b[0m\n",
      "\u001b[1m[\u001b[0m\u001b[34;49mnotice\u001b[0m\u001b[1;39;49m]\u001b[0m\u001b[39;49m To update, run: \u001b[0m\u001b[32;49mpip install --upgrade pip\u001b[0m\n",
      "Note: you may need to restart the kernel to use updated packages.\n"
     ]
    }
   ],
   "source": [
    "%pip install streamlit"
   ]
  },
  {
   "cell_type": "markdown",
   "id": "8ecd4b32",
   "metadata": {},
   "source": [
    "## Membuat UI Komponen Dasar\n",
    "Kita akan mulai dengan file Python sederhana. Buat file `app.py` dan isi seperti ini:"
   ]
  },
  {
   "cell_type": "code",
   "execution_count": 3,
   "id": "41cd0abf",
   "metadata": {},
   "outputs": [
    {
     "name": "stderr",
     "output_type": "stream",
     "text": [
      "2025-06-05 12:23:40.535 WARNING streamlit.runtime.scriptrunner_utils.script_run_context: Thread 'MainThread': missing ScriptRunContext! This warning can be ignored when running in bare mode.\n",
      "2025-06-05 12:23:40.608 \n",
      "  \u001b[33m\u001b[1mWarning:\u001b[0m to view this Streamlit app on a browser, run it with the following\n",
      "  command:\n",
      "\n",
      "    streamlit run /home/codespace/.local/lib/python3.12/site-packages/ipykernel_launcher.py [ARGUMENTS]\n",
      "2025-06-05 12:23:40.610 Thread 'MainThread': missing ScriptRunContext! This warning can be ignored when running in bare mode.\n",
      "2025-06-05 12:23:40.611 Thread 'MainThread': missing ScriptRunContext! This warning can be ignored when running in bare mode.\n",
      "2025-06-05 12:23:40.611 Thread 'MainThread': missing ScriptRunContext! This warning can be ignored when running in bare mode.\n",
      "2025-06-05 12:23:40.613 Thread 'MainThread': missing ScriptRunContext! This warning can be ignored when running in bare mode.\n",
      "2025-06-05 12:23:40.613 Thread 'MainThread': missing ScriptRunContext! This warning can be ignored when running in bare mode.\n",
      "2025-06-05 12:23:40.614 Thread 'MainThread': missing ScriptRunContext! This warning can be ignored when running in bare mode.\n",
      "2025-06-05 12:23:40.615 Thread 'MainThread': missing ScriptRunContext! This warning can be ignored when running in bare mode.\n",
      "2025-06-05 12:23:40.617 Session state does not function when running a script without `streamlit run`\n",
      "2025-06-05 12:23:40.617 Thread 'MainThread': missing ScriptRunContext! This warning can be ignored when running in bare mode.\n",
      "2025-06-05 12:23:40.618 Thread 'MainThread': missing ScriptRunContext! This warning can be ignored when running in bare mode.\n",
      "2025-06-05 12:23:40.619 Thread 'MainThread': missing ScriptRunContext! This warning can be ignored when running in bare mode.\n",
      "2025-06-05 12:23:40.620 Thread 'MainThread': missing ScriptRunContext! This warning can be ignored when running in bare mode.\n",
      "2025-06-05 12:23:40.620 Thread 'MainThread': missing ScriptRunContext! This warning can be ignored when running in bare mode.\n",
      "2025-06-05 12:23:40.622 Thread 'MainThread': missing ScriptRunContext! This warning can be ignored when running in bare mode.\n",
      "2025-06-05 12:23:40.622 Thread 'MainThread': missing ScriptRunContext! This warning can be ignored when running in bare mode.\n"
     ]
    }
   ],
   "source": [
    "import streamlit as st\n",
    "\n",
    "# Judul aplikasi\n",
    "st.title(\"Aplikasi Quiz Sederhana\")\n",
    "\n",
    "# Teks biasa\n",
    "st.write(\"Selamat datang di aplikasi quiz!\")\n",
    "\n",
    "# Input teks\n",
    "name = st.text_input(\"Masukkan nama kamu:\")\n",
    "\n",
    "# Tombol\n",
    "if st.button(\"Mulai Quiz\"):\n",
    "    st.write(f\"Halo, {name}! Ayo kita mulai kuisnya.\")"
   ]
  },
  {
   "cell_type": "markdown",
   "id": "803a46a5",
   "metadata": {},
   "source": [
    "setelah membuat file `app.py` jalankan perintah `streamlit run app.py` di terminal"
   ]
  },
  {
   "cell_type": "markdown",
   "id": "0d703389",
   "metadata": {},
   "source": [
    "penjelasan komponen\n",
    "| **Komponen**       | **Fungsi**                                                                 |\n",
    "|--------------------|----------------------------------------------------------------------------|\n",
    "| `st.title()`        | Menampilkan **judul besar** di halaman aplikasi.                          |\n",
    "| `st.write()`        | Menampilkan **teks biasa**, angka, dataframe, atau objek Python lainnya.   |\n",
    "| `st.text_input()`   | Membuat **input teks** dari pengguna.                                      |\n",
    "| `st.button()`       | Membuat **tombol**, biasanya dikombinasikan dengan `if` untuk aksi tertentu.|\n"
   ]
  },
  {
   "cell_type": "markdown",
   "id": "0ab66903",
   "metadata": {},
   "source": [
    "## Komponen Tambahan (Gambar, Radio Button, dll)\n",
    "Kita bisa tambahkan gambar, radio button, dan lainnya:"
   ]
  },
  {
   "cell_type": "code",
   "execution_count": null,
   "id": "35cd2169",
   "metadata": {},
   "outputs": [],
   "source": [
    "st.image(\"logo.png\", caption=\"Logo Quiz\", width=200)\n",
    "\n",
    "question = \"Apa ibu kota Indonesia?\"\n",
    "options = [\"Jakarta\", \"Bandung\", \"Surabaya\"]\n",
    "\n",
    "answer = st.radio(question, options)\n",
    "\n",
    "if st.button(\"Submit Jawaban\"):\n",
    "    if answer == \"Jakarta\":\n",
    "        st.success(\"Jawaban kamu benar!\")\n",
    "    else:\n",
    "        st.error(\"Jawaban salah, coba lagi!\")"
   ]
  },
  {
   "cell_type": "markdown",
   "id": "cc78908f",
   "metadata": {},
   "source": [
    "Penjelasan komponen\n",
    "| **Komponen**            | **Fungsi**                                                                      |\n",
    "|-------------------------|----------------------------------------------------------------------------------|\n",
    "| `st.image()`            | Menampilkan **gambar** dari file lokal atau URL.                                |\n",
    "| `st.radio()`            | Menampilkan **pilihan ganda** (radio button) yang hanya bisa memilih satu opsi. |\n",
    "| `st.success()`          | Menampilkan pesan sukses dengan **feedback visual berwarna hijau**.             |\n",
    "| `st.error()`            | Menampilkan pesan error dengan **feedback visual berwarna merah**.              |"
   ]
  },
  {
   "cell_type": "markdown",
   "id": "852082da",
   "metadata": {},
   "source": [
    "## Menjalankan & Deploy Aplikasi\n",
    "\n",
    "### Jalankan Aplikasi:\n",
    "Setelah menyimpan file app.py, jalankan perintah ini di terminal:\n",
    "`streamlit run app.py`\n",
    "\n",
    "Browser akan terbuka otomatis dengan aplikasi quiz kamu.\n",
    "\n",
    "### Deploy Aplikasi:\n",
    "Kamu bisa deploy aplikasi kamu secara gratis dengan:\n",
    "Streamlit Community Cloud: https://streamlit.io/cloud\n",
    "Langkah:\n",
    "- Push kodenya ke GitHub\n",
    "- Login ke Streamlit Cloud\n",
    "- Hubungkan repo GitHub kamu\n",
    "- Klik “Deploy”\n"
   ]
  },
  {
   "cell_type": "markdown",
   "id": "f3770652",
   "metadata": {},
   "source": [
    "## Studi Kasus\n",
    "Membuat Pertanyaan Quiz Dinamis\n"
   ]
  },
  {
   "cell_type": "code",
   "execution_count": null,
   "id": "bad378ef",
   "metadata": {},
   "outputs": [],
   "source": [
    "score = 0\n",
    "\n",
    "qna = {\n",
    "    \"1 + 1 = ?\": \"2\",\n",
    "    \"Hewan berkaki 8?\": \"Laba-laba\",\n",
    "    \"Bahasa pemrograman populer untuk AI?\": \"Python\"\n",
    "}\n",
    "\n",
    "for q, a in qna.items():\n",
    "    user_answer = st.text_input(q, key=q)\n",
    "    if user_answer:\n",
    "        if user_answer.lower() == a.lower():\n",
    "            st.success(\"Benar!\")\n",
    "            score += 1\n",
    "        else:\n",
    "            st.warning(\"Salah!\")\n",
    "\n",
    "if st.button(\"Lihat Skor\"):\n",
    "    st.write(f\"Skor akhir kamu adalah: {score} dari {len(qna)}\")"
   ]
  },
  {
   "cell_type": "markdown",
   "id": "431d1790",
   "metadata": {},
   "source": [
    "# Tantangan\n",
    "Yuk kerjakan tantangan di bawah ini! Sebelum mengerjakan tantangan, jangan lupa masukkan student ID kamu ya!"
   ]
  },
  {
   "cell_type": "code",
   "execution_count": null,
   "id": "6ad04041",
   "metadata": {},
   "outputs": [],
   "source": [
    "%pip install rggrader\n",
    "\n",
    "from rggrader import submit\n",
    "\n",
    "# @title #### Student Identity\n",
    "student_id = \"your_student_id\"  # @param {type:\"string\"}\n",
    "name = \"your_name\"  # @param {type:\"string\"}"
   ]
  },
  {
   "cell_type": "markdown",
   "id": "67fa4224",
   "metadata": {},
   "source": [
    "## Tantangan 1 - Menebak Komponen Streamlit yang Tepat"
   ]
  },
  {
   "cell_type": "code",
   "execution_count": null,
   "id": "cc5047cd",
   "metadata": {},
   "outputs": [],
   "source": [
    "# @title #### 10. Menebak Komponen Streamlit yang Tepat\n",
    "from rggrader import submit\n",
    "\n",
    "# Deskripsi soal:\n",
    "# Streamlit memiliki berbagai komponen interaktif seperti text input, tombol, dan dropdown.\n",
    "# Pilih komponen yang paling sesuai dengan deskripsi di bawah ini.\n",
    "\n",
    "# Soal:\n",
    "# 1. Komponen apa yang digunakan untuk meminta pengguna memasukkan teks?\n",
    "# 2. Komponen apa yang digunakan untuk membuat tombol yang bisa ditekan oleh pengguna?\n",
    "# 3. Komponen apa yang digunakan untuk membuat dropdown list pilihan?\n",
    "\n",
    "# TODO: Buatlah fungsi `streamlit_component` yang menerima nomor soal sebagai input dan\n",
    "# mengembalikan nama komponen Streamlit yang sesuai (misalnya \"st.text_input\", \"st.button\", dll).\n",
    "# Lengkapi kode fungsi ini agar dapat memberikan jawaban yang benar.\n",
    "\n",
    "def streamlit_component(question_number):\n",
    "    # ---- Tulis kode kamu di bawah ini ----\n",
    "    \n",
    "    # ---- Akhir dari kode kamu ----\n",
    "    return None  # Ganti dengan hasil yang sesuai\n",
    "\n",
    "# Outputkan hasil untuk setiap soal\n",
    "print(f\"Soal 1: {streamlit_component(1)}\")\n",
    "print(f\"Soal 2: {streamlit_component(2)}\")\n",
    "print(f\"Soal 3: {streamlit_component(3)}\")\n",
    "\n",
    "# Submit Method\n",
    "assignment_id = \"05-streamlit\"\n",
    "question_id = \"01-streamlit-component\"\n",
    "submit(student_id, name, assignment_id, str(streamlit_component(1)), question_id)\n"
   ]
  }
 ],
 "metadata": {
  "kernelspec": {
   "display_name": "Python 3",
   "language": "python",
   "name": "python3"
  },
  "language_info": {
   "codemirror_mode": {
    "name": "ipython",
    "version": 3
   },
   "file_extension": ".py",
   "mimetype": "text/x-python",
   "name": "python",
   "nbconvert_exporter": "python",
   "pygments_lexer": "ipython3",
   "version": "3.12.1"
  }
 },
 "nbformat": 4,
 "nbformat_minor": 5
}
