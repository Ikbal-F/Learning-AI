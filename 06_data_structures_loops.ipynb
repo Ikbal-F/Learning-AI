{
  "cells": [
    {
      "cell_type": "markdown",
      "id": "c18cc1fc",
      "metadata": {
        "id": "c18cc1fc"
      },
      "source": [
        "# Data Structures & Loops\n",
        "## 1. List (Daftar)\n",
        "List adalah tipe data di Python yang digunakan untuk menyimpan beberapa nilai dalam satu variabel. List bersifat:\n",
        "- Terurut (ordered): elemen disusun berdasarkan urutan penambahan\n",
        "- Dapat diubah (mutable): isi list bisa ditambah, diubah, atau dihapus\n",
        "- Dapat menyimpan berbagai jenis data\n",
        "\n",
        "### Membuat List\n",
        "```py\n",
        "buah = [\"apel\", \"mangga\", \"pisang\", \"jeruk\"]\n",
        "angka = [1, 2, 3, 4]\n",
        "```\n",
        "\n",
        "### Akses Elemen List"
      ]
    },
    {
      "cell_type": "code",
      "execution_count": 1,
      "id": "9187d235",
      "metadata": {
        "id": "9187d235",
        "outputId": "36ec260f-b484-4431-8527-43befca990c4",
        "colab": {
          "base_uri": "https://localhost:8080/"
        }
      },
      "outputs": [
        {
          "output_type": "stream",
          "name": "stdout",
          "text": [
            "apel\n",
            "jeruk\n"
          ]
        }
      ],
      "source": [
        "buah = [\"apel\", \"mangga\", \"pisang\", \"jeruk\"] # string\n",
        "\n",
        "print(buah[0])   # apel (mengakses indeks pertama)\n",
        "print(buah[-1])  # jeruk (mengakses indeks terakhir)"
      ]
    },
    {
      "cell_type": "code",
      "source": [
        "for item in buah:\n",
        "  print(f\"-{item}\")"
      ],
      "metadata": {
        "id": "t9Vx4T-mJK4p",
        "outputId": "dad782e3-3af4-4fde-cf32-dca33e36c6e5",
        "colab": {
          "base_uri": "https://localhost:8080/"
        }
      },
      "id": "t9Vx4T-mJK4p",
      "execution_count": 9,
      "outputs": [
        {
          "output_type": "stream",
          "name": "stdout",
          "text": [
            "-apel\n",
            "-mangga\n",
            "-jeruk\n"
          ]
        }
      ]
    },
    {
      "cell_type": "markdown",
      "id": "b0df8528",
      "metadata": {
        "id": "b0df8528"
      },
      "source": [
        "### Mengubah Elemen List"
      ]
    },
    {
      "cell_type": "code",
      "execution_count": null,
      "id": "e8ba122a",
      "metadata": {
        "id": "e8ba122a",
        "outputId": "7bb59a4e-b3a0-4939-fe6a-2ac1427e6490"
      },
      "outputs": [
        {
          "name": "stdout",
          "output_type": "stream",
          "text": [
            "['apel', 'anggur', 'pisang', 'jeruk']\n"
          ]
        }
      ],
      "source": [
        "buah[1] = \"anggur\"\n",
        "print(buah)  # [\"apel\", \"anggur\", \"pisang\", \"jeruk\"]"
      ]
    },
    {
      "cell_type": "markdown",
      "id": "c37c80fe",
      "metadata": {
        "id": "c37c80fe"
      },
      "source": [
        "### Menambahkan Elemen"
      ]
    },
    {
      "cell_type": "code",
      "execution_count": null,
      "id": "796f64d3",
      "metadata": {
        "id": "796f64d3",
        "outputId": "079d75e1-dff4-4d78-c179-9d700f5bdc53"
      },
      "outputs": [
        {
          "name": "stdout",
          "output_type": "stream",
          "text": [
            "['apel', 'durian', 'anggur', 'pisang', 'jeruk', 'melon']\n"
          ]
        }
      ],
      "source": [
        "buah.append(\"melon\")   # Tambah ke akhir\n",
        "buah.insert(1, \"durian\")  # Tambah di indeks tertentu\n",
        "print(buah)"
      ]
    },
    {
      "cell_type": "markdown",
      "id": "39b0b52a",
      "metadata": {
        "id": "39b0b52a"
      },
      "source": [
        "### Menghapus Elemen"
      ]
    },
    {
      "cell_type": "code",
      "execution_count": null,
      "id": "a5d4796c",
      "metadata": {
        "id": "a5d4796c",
        "outputId": "c9d3bc35-2b95-4a5e-cc8b-10b8b80179df"
      },
      "outputs": [
        {
          "name": "stdout",
          "output_type": "stream",
          "text": [
            "['durian', 'anggur', 'jeruk']\n"
          ]
        }
      ],
      "source": [
        "buah.remove(\"pisang\")  # Hapus berdasarkan nilai\n",
        "buah.pop(0)  # Hapus berdasarkan indeks\n",
        "buah.pop()  # Hapus elemen terakhir\n",
        "print(buah)"
      ]
    },
    {
      "cell_type": "markdown",
      "id": "7e1df681",
      "metadata": {
        "id": "7e1df681"
      },
      "source": [
        "### Operasi List"
      ]
    },
    {
      "cell_type": "code",
      "execution_count": null,
      "id": "bc2f4421",
      "metadata": {
        "id": "bc2f4421",
        "outputId": "fd18a3e1-f62e-4c79-b5c3-313f51a9ecc3"
      },
      "outputs": [
        {
          "name": "stdout",
          "output_type": "stream",
          "text": [
            "3\n",
            "['durian', 'anggur', 'jeruk', 'pepaya']\n",
            "['durian', 'anggur', 'jeruk', 'durian', 'anggur', 'jeruk']\n"
          ]
        }
      ],
      "source": [
        "print(len(buah))  # Panjang list\n",
        "print(buah + [\"pepaya\"])  # Gabung list\n",
        "print(buah * 2)  # Duplikasi list"
      ]
    },
    {
      "cell_type": "markdown",
      "id": "9ce2efb2",
      "metadata": {
        "id": "9ce2efb2"
      },
      "source": [
        "### Mengurutkan List\n",
        "Misal kita punya list:\n",
        "```py\n",
        "buah = [\"jeruk\", \"anggur\", \"apel\"]\n",
        "```"
      ]
    },
    {
      "cell_type": "markdown",
      "id": "9b87c590",
      "metadata": {
        "id": "9b87c590"
      },
      "source": [
        "#### 1. Menggunakan sort() (Mengubah List Asli)\n",
        "sort() akan mengubah urutan list langsung (in-place)."
      ]
    },
    {
      "cell_type": "code",
      "execution_count": null,
      "id": "8e8c0d56",
      "metadata": {
        "id": "8e8c0d56",
        "outputId": "83174f03-07d6-4cf9-c78e-a6703991cb1b"
      },
      "outputs": [
        {
          "name": "stdout",
          "output_type": "stream",
          "text": [
            "['anggur', 'apel', 'jeruk']\n"
          ]
        }
      ],
      "source": [
        "buah = [\"jeruk\", \"anggur\", \"apel\"]\n",
        "\n",
        "buah.sort()\n",
        "print(buah)"
      ]
    },
    {
      "cell_type": "markdown",
      "id": "c0f6cf23",
      "metadata": {
        "id": "c0f6cf23"
      },
      "source": [
        "#### 2. Menggunakan sorted() (Tidak Mengubah List Asli)\n",
        "sorted() mengembalikan list baru tanpa mengubah list aslinya."
      ]
    },
    {
      "cell_type": "code",
      "execution_count": null,
      "id": "b1ed1b83",
      "metadata": {
        "id": "b1ed1b83",
        "outputId": "b168f73b-be53-410f-a29d-6a5fcf30c2bb"
      },
      "outputs": [
        {
          "name": "stdout",
          "output_type": "stream",
          "text": [
            "['anggur', 'apel', 'jeruk']\n",
            "['jeruk', 'anggur', 'apel']\n"
          ]
        }
      ],
      "source": [
        "buah = [\"jeruk\", \"anggur\", \"apel\"]\n",
        "\n",
        "buah_urut = sorted(buah)\n",
        "print(buah_urut)\n",
        "\n",
        "print(buah)\n"
      ]
    },
    {
      "cell_type": "markdown",
      "id": "c87acda5",
      "metadata": {
        "id": "c87acda5"
      },
      "source": [
        "### Looping Melalui List"
      ]
    },
    {
      "cell_type": "code",
      "execution_count": null,
      "id": "821c573d",
      "metadata": {
        "id": "821c573d"
      },
      "outputs": [],
      "source": [
        "for item in buah:\n",
        "    print(item)"
      ]
    },
    {
      "cell_type": "markdown",
      "id": "d3019fe1",
      "metadata": {
        "id": "d3019fe1"
      },
      "source": [
        "#### Studi Kasus List\n",
        "Kasus: Menyimpan Daftar Tugas Harian dan Menampilkannya"
      ]
    },
    {
      "cell_type": "code",
      "execution_count": null,
      "id": "c38be7c6",
      "metadata": {
        "id": "c38be7c6"
      },
      "outputs": [],
      "source": [
        "tugas = []\n",
        "\n",
        "# Menambahkan tugas\n",
        "tugas.append(\"Belajar Python\")\n",
        "tugas.append(\"Mengerjakan PR\")\n",
        "tugas.append(\"Membaca buku\")\n",
        "\n",
        "# Menampilkan daftar tugas\n",
        "print(\"Daftar Tugas Hari Ini:\")\n",
        "for t in tugas:\n",
        "    print(\"-\", t)"
      ]
    },
    {
      "cell_type": "markdown",
      "id": "afedb23e",
      "metadata": {
        "id": "afedb23e"
      },
      "source": [
        "## 2. Dictionary\n",
        "Dictionary menyimpan **data dalam pasangan key-value**.\n",
        "\n",
        "Dictionary bersifat **unordered (tidak berurutan) dan mutable (bisa diubah)**."
      ]
    },
    {
      "cell_type": "markdown",
      "id": "47d685a8",
      "metadata": {
        "id": "47d685a8"
      },
      "source": [
        "### Membuat Dictionary\n",
        "```py\n",
        "mahasiswa = {\n",
        "    \"nama\": \"Mareta\",\n",
        "    \"umur\": 20,\n",
        "    \"jurusan\": \"Informatika\"\n",
        "}\n",
        "```"
      ]
    },
    {
      "cell_type": "markdown",
      "id": "ac299311",
      "metadata": {
        "id": "ac299311"
      },
      "source": [
        "### Akses Data Dictionary"
      ]
    },
    {
      "cell_type": "code",
      "execution_count": null,
      "id": "c2109da1",
      "metadata": {
        "id": "c2109da1",
        "outputId": "b3d2dd14-80f6-45ac-f20d-33eac5f3c3e4"
      },
      "outputs": [
        {
          "name": "stdout",
          "output_type": "stream",
          "text": [
            "Mareta\n",
            "20\n"
          ]
        }
      ],
      "source": [
        "mahasiswa = {\n",
        "    \"nama\": \"Mareta\",\n",
        "    \"umur\": 20,\n",
        "    \"jurusan\": \"Informatika\"\n",
        "}\n",
        "\n",
        "print(mahasiswa[\"nama\"])  # Menggunakan key\n",
        "print(mahasiswa.get(\"umur\"))  # Menggunakan get"
      ]
    },
    {
      "cell_type": "markdown",
      "id": "fa1a3303",
      "metadata": {
        "id": "fa1a3303"
      },
      "source": [
        "### Mengubah Nilai"
      ]
    },
    {
      "cell_type": "code",
      "execution_count": null,
      "id": "669432b1",
      "metadata": {
        "id": "669432b1",
        "outputId": "dd570cbb-f9f2-4ce6-95b2-d38342c94e59"
      },
      "outputs": [
        {
          "name": "stdout",
          "output_type": "stream",
          "text": [
            "{'nama': 'Mareta', 'umur': 26, 'jurusan': 'Informatika'}\n"
          ]
        }
      ],
      "source": [
        "mahasiswa[\"umur\"] = 26 # Mengubah nilai umur dari 20 ke 26\n",
        "print(mahasiswa)"
      ]
    },
    {
      "cell_type": "markdown",
      "id": "7a676f1c",
      "metadata": {
        "id": "7a676f1c"
      },
      "source": [
        "### Menambahkan dan Menghapus Data"
      ]
    },
    {
      "cell_type": "code",
      "execution_count": null,
      "id": "96c7f1fa",
      "metadata": {
        "id": "96c7f1fa"
      },
      "outputs": [],
      "source": [
        "mahasiswa[\"hobi\"] = \"coding\"  # Tambah key hobi\n",
        "del mahasiswa[\"jurusan\"]  # Hapus key jurusan\n",
        "print(mahasiswa)"
      ]
    },
    {
      "cell_type": "markdown",
      "id": "f95241da",
      "metadata": {
        "id": "f95241da"
      },
      "source": [
        "\n",
        "### Looping di Dictionary\n",
        "#### Looping Hanya Key\n",
        "Digunakan jika hanya perlu key-nya saja."
      ]
    },
    {
      "cell_type": "code",
      "execution_count": null,
      "id": "3953fbf9",
      "metadata": {
        "id": "3953fbf9"
      },
      "outputs": [],
      "source": [
        "mahasiswa = {\"nama\": \"Mareta\", \"umur\": 25, \"jurusan\": \"Informatika\"}\n",
        "\n",
        "for key in mahasiswa:\n",
        "    print(key)\n",
        "\n",
        "# Output:\n",
        "# nama\n",
        "# umur\n",
        "# jurusan"
      ]
    },
    {
      "cell_type": "markdown",
      "id": "ef284afc",
      "metadata": {
        "id": "ef284afc"
      },
      "source": [
        "#### Looping Hanya Value\n",
        "Digunakan jika hanya perlu mengambil nilai dari dictionary."
      ]
    },
    {
      "cell_type": "code",
      "execution_count": null,
      "id": "2921dff7",
      "metadata": {
        "id": "2921dff7"
      },
      "outputs": [],
      "source": [
        "for value in mahasiswa.values():\n",
        "    print(value)\n",
        "\n",
        "# Output:\n",
        "# Mareta\n",
        "# 25\n",
        "# Informatika"
      ]
    },
    {
      "cell_type": "markdown",
      "id": "fe98abba",
      "metadata": {
        "id": "fe98abba"
      },
      "source": [
        "#### Looping Key dan Value Sekaligus"
      ]
    },
    {
      "cell_type": "code",
      "execution_count": null,
      "id": "255ed558",
      "metadata": {
        "id": "255ed558"
      },
      "outputs": [],
      "source": [
        "for key, value in mahasiswa.items():\n",
        "    print(f\"{key}: {value}\")\n",
        "\n",
        "# Output:\n",
        "# nama: Mareta\n",
        "# umur: 25\n",
        "# jurusan: Informatika"
      ]
    },
    {
      "cell_type": "markdown",
      "id": "17e58ab5",
      "metadata": {
        "id": "17e58ab5"
      },
      "source": [
        "#### Studi kasus dictionary\n",
        "Daftar Nilai Siswa"
      ]
    },
    {
      "cell_type": "code",
      "execution_count": null,
      "id": "328538d3",
      "metadata": {
        "id": "328538d3"
      },
      "outputs": [],
      "source": [
        "nilai_siswa = {\n",
        "    \"Andi\": 85,\n",
        "    \"Bella\": 90,\n",
        "    \"Cici\": 78\n",
        "}\n",
        "\n",
        "# Menampilkan daftar siswa dan nilai\n",
        "for nama, nilai in nilai_siswa.items():\n",
        "    print(f\"{nama} mendapat nilai {nilai}\")"
      ]
    },
    {
      "cell_type": "markdown",
      "id": "a7dcd823",
      "metadata": {
        "id": "a7dcd823"
      },
      "source": [
        "# Tantangan\n",
        "Yuk kerjakan beberapa tantangan di bawah ini! Sebelum mengerjakan tantangan, jangan lupa masukkan student ID kamu ya!"
      ]
    },
    {
      "cell_type": "code",
      "execution_count": null,
      "id": "09b760bd",
      "metadata": {
        "id": "09b760bd"
      },
      "outputs": [],
      "source": [
        "%pip install rggrader\n",
        "\n",
        "from rggrader import submit\n",
        "\n",
        "# @title #### Student Identity\n",
        "student_id = \"your_student_id\"  # @param {type:\"string\"}\n",
        "name = \"your_name\"  # @param {type:\"string\"}"
      ]
    },
    {
      "cell_type": "markdown",
      "id": "a3dcc8ea",
      "metadata": {
        "id": "a3dcc8ea"
      },
      "source": [
        "## Tantangan 1 - Fun with Fruits"
      ]
    },
    {
      "cell_type": "code",
      "execution_count": null,
      "id": "1732b5fb",
      "metadata": {
        "id": "1732b5fb"
      },
      "outputs": [],
      "source": [
        "# @title #### 00. Fun with Fruits\n",
        "from rggrader import submit\n",
        "\n",
        "# TODO: Create a list 'fruits' that contains \"Apple\", \"Banana\", and \"Cherry\".\n",
        "# Then remove \"Banana\" from the 'fruits' list and append \"Dragonfruit\" and \"Elderberry\".\n",
        "fruits = []\n",
        "\n",
        "# Put your code here:\n",
        "\n",
        "\n",
        "# ---- End of your code ----\n",
        "\n",
        "print(f\"The final fruits list is {fruits}\")\n",
        "\n",
        "# Submit Method\n",
        "assignment_id = \"06_data_structure-loops\"\n",
        "question_id = \"01_fun_with_fruits\"\n",
        "submit(student_id, name, assignment_id, \", \".join(fruits), question_id)"
      ]
    },
    {
      "cell_type": "markdown",
      "id": "77baf435",
      "metadata": {
        "id": "77baf435"
      },
      "source": [
        "## Tantangan 2 - Trip to Bussels"
      ]
    },
    {
      "cell_type": "code",
      "execution_count": null,
      "id": "81a1d864",
      "metadata": {
        "id": "81a1d864"
      },
      "outputs": [],
      "source": [
        "# @title #### 01. Trip to Brussels\n",
        "from rggrader import submit\n",
        "\n",
        "# TODO: You're planning a trip to Brussels!\n",
        "#       1. Start with a list 'places_to_visit' containing: [\"Grand Place\", \"Royal Palace\", \"Atomium\"]\n",
        "#       2. Then remove \"Royal Palace\" and add both \"Manneken Pis\" and \"Mini Europe\" to the list\n",
        "#       3. Create a dictionary 'brussels_info' with the following initial information:\n",
        "#          - 'country': 'Belgium'\n",
        "#          - 'language': 'French'\n",
        "#       4. Update the 'language' value to 'French and Dutch'\n",
        "#       5. Add a new key 'population' with value 1200000\n",
        "\n",
        "\n",
        "# Put your code here:\n",
        "\n",
        "\n",
        "# ---- End of your code ----\n",
        "\n",
        "print(f\"Places to visit in Brussels: {places_to_visit}\")\n",
        "print(f\"Information about Brussels: {brussels_info}\")\n",
        "\n",
        "# Submit Method\n",
        "assignment_id = \"06_data_structure-loops\"\n",
        "question_id = \"02_trip_to_brussels\"\n",
        "submit(student_id, name, assignment_id, str(places_to_visit) + \" | \" + str(brussels_info), question_id)\n",
        "\n",
        "# Expected Output:\n",
        "# Places to visit in Brussels: ['Grand Place', 'Atomium', 'Manneken Pis', 'Mini Europe']\n",
        "# Information about Brussels: {'country': 'Belgium', 'language': 'French and Dutch', 'population': 1200000}"
      ]
    },
    {
      "cell_type": "markdown",
      "id": "8e6e1c85",
      "metadata": {
        "id": "8e6e1c85"
      },
      "source": [
        "## Tantangan 3 - Birthday Party"
      ]
    },
    {
      "cell_type": "code",
      "execution_count": null,
      "id": "41bd69d9",
      "metadata": {
        "id": "41bd69d9"
      },
      "outputs": [],
      "source": [
        "# @title #### 02. Birthday Party\n",
        "from rggrader import submit\n",
        "\n",
        "# TODO: You're throwing a birthday party! Create a dictionary 'ages' that contains key-value pairs of your friends' names\n",
        "#       and their ages: \"Alice\": 25, \"Bob\": 30, \"Charlie\": 35.\n",
        "# Alice just had her birthday! So, change the age of \"Alice\" to 26. Then, add your friend \"David\" who is 40 to the party.\n",
        "\n",
        "\n",
        "# Put your code here:\n",
        "ages = {}\n",
        "\n",
        "\n",
        "# ---- End of your code ----\n",
        "\n",
        "print(f\"The final ages dictionary is {ages}\")\n",
        "\n",
        "# Submit Method\n",
        "assignment_id = \"06_data_structure-loops\"\n",
        "question_id = \"03_birthday_party\"\n",
        "submit(student_id, name, assignment_id, str(ages), question_id)\n",
        "\n",
        "# Example:\n",
        "# Dictionary: {\"John\": 28, \"Linda\": 25, \"Peter\": 30}\n",
        "# Change Age: John turns 29\n",
        "# Add New Friend: {\"Mary\": 32}\n",
        "# Output: {\"John\": 29, \"Linda\": 25, \"Peter\": 30, \"Mary\": 32}"
      ]
    }
  ],
  "metadata": {
    "kernelspec": {
      "display_name": "myenv",
      "language": "python",
      "name": "python3"
    },
    "language_info": {
      "codemirror_mode": {
        "name": "ipython",
        "version": 3
      },
      "file_extension": ".py",
      "mimetype": "text/x-python",
      "name": "python",
      "nbconvert_exporter": "python",
      "pygments_lexer": "ipython3",
      "version": "3.10.0"
    },
    "colab": {
      "provenance": []
    }
  },
  "nbformat": 4,
  "nbformat_minor": 5
}