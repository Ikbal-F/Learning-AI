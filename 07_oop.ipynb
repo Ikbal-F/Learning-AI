{
  "cells": [
    {
      "cell_type": "markdown",
      "id": "1071831f",
      "metadata": {
        "id": "1071831f"
      },
      "source": [
        "# OOP\n",
        "Object-Oriented Programming (OOP) adalah paradigma pemrograman berbasis objek. OOP bertujuan untuk memodelkan program menggunakan “objek”, yang merupakan gabungan antara data (atribut) dan perilaku (fungsi/methods).\n"
      ]
    },
    {
      "cell_type": "markdown",
      "id": "e797adfa",
      "metadata": {
        "id": "e797adfa"
      },
      "source": [
        "## Kenapa OOP penting?\n",
        "- Kode lebih terstruktur dan mudah dirawat.\n",
        "- Bisa mengorganisasi kode besar jadi lebih modular.\n",
        "- Banyak library Python (terutama AI dan data) menggunakan OOP di dalamnya."
      ]
    },
    {
      "cell_type": "markdown",
      "id": "1f2ae11b",
      "metadata": {
        "id": "1f2ae11b"
      },
      "source": [
        "## Konsep Dasar OOP:\n",
        "### Class\n",
        "Cetakan/blueprint untuk membuat objek. Berisi atribut dan method."
      ]
    },
    {
      "cell_type": "code",
      "execution_count": 1,
      "id": "75b66313",
      "metadata": {
        "id": "75b66313"
      },
      "outputs": [],
      "source": [
        "class Dog:\n",
        "    def __init__(self, name):\n",
        "        self.name = name\n",
        "\n",
        "    def bark(self):\n",
        "        print(f\"{self.name} says woof!\")\n",
        "\n"
      ]
    },
    {
      "cell_type": "markdown",
      "id": "2eae7f06",
      "metadata": {
        "id": "2eae7f06"
      },
      "source": [
        "### Object\n",
        "Instansi nyata dari class."
      ]
    },
    {
      "cell_type": "code",
      "execution_count": 2,
      "id": "48f78988",
      "metadata": {
        "id": "48f78988",
        "outputId": "9024bc9a-f376-4bf0-88d5-5c32232d600e"
      },
      "outputs": [
        {
          "name": "stdout",
          "output_type": "stream",
          "text": [
            "Buddy says woof!\n"
          ]
        }
      ],
      "source": [
        "my_dog = Dog(\"Buddy\")\n",
        "my_dog.bark()  # Output: Buddy says woof!"
      ]
    },
    {
      "cell_type": "code",
      "execution_count": 3,
      "id": "7b4e0254",
      "metadata": {
        "id": "7b4e0254"
      },
      "outputs": [
        {
          "name": "stdout",
          "output_type": "stream",
          "text": [
            "Toyota Avanza berwarna hitam sedang berjalan.\n"
          ]
        }
      ],
      "source": [
        "class Mobil:\n",
        "    def __init__(self, merk, warna):\n",
        "        self.merk = merk\n",
        "        self.warna = warna\n",
        "\n",
        "    def jalan(self):\n",
        "        print(f\"{self.merk} berwarna {self.warna} sedang berjalan.\")\n",
        "\n",
        "avanza = Mobil(\"Toyota Avanza\", \"hitam\")\n",
        "avanza.jalan()\n"
      ]
    },
    {
      "cell_type": "markdown",
      "id": "c460f6fc",
      "metadata": {
        "id": "c460f6fc"
      },
      "source": [
        "### Encapsulation\n",
        "Menyembunyikan detail implementasi dan hanya menampilkan interface-nya.\n",
        "\n",
        "Contoh: atribut self.__score yang hanya bisa diakses via method tertentu."
      ]
    },
    {
      "cell_type": "markdown",
      "id": "fabfeae0",
      "metadata": {
        "id": "fabfeae0"
      },
      "source": [
        "### Inheritance\n",
        "Pewarisan sifat dari class lain (reusability)."
      ]
    },
    {
      "cell_type": "code",
      "execution_count": null,
      "id": "0785878b",
      "metadata": {
        "id": "0785878b"
      },
      "outputs": [],
      "source": [
        "# parent class\n",
        "class Person:\n",
        "    def say_hello(self):\n",
        "        print(\"Hello!\")\n"
      ]
    },
    {
      "cell_type": "code",
      "execution_count": null,
      "id": "14bc2334",
      "metadata": {
        "id": "14bc2334",
        "outputId": "87802ca7-780d-420d-c806-2d55d33588b7"
      },
      "outputs": [
        {
          "name": "stdout",
          "output_type": "stream",
          "text": [
            "Hello!\n",
            "I'm studying.\n"
          ]
        }
      ],
      "source": [
        "class Student(Person):\n",
        "    def study(self):\n",
        "        print(\"I'm studying.\")\n",
        "\n",
        "# pemakaian\n",
        "s = Student()\n",
        "s.say_hello()  # inherited dari Person\n",
        "s.study()      # milik Student\n"
      ]
    },
    {
      "cell_type": "markdown",
      "id": "ecd9ef3b",
      "metadata": {
        "id": "ecd9ef3b"
      },
      "source": [
        "### Polymorphism\n",
        "Method yang sama bisa berperilaku berbeda tergantung objeknya."
      ]
    },
    {
      "cell_type": "code",
      "execution_count": null,
      "id": "f11da80c",
      "metadata": {
        "id": "f11da80c",
        "outputId": "7849b346-b57b-4193-bf86-046b523b43d3"
      },
      "outputs": [
        {
          "name": "stdout",
          "output_type": "stream",
          "text": [
            "Meow\n",
            "Woof\n"
          ]
        }
      ],
      "source": [
        "class Cat:\n",
        "    def speak(self):\n",
        "        print(\"Meow\")\n",
        "\n",
        "class Dog:\n",
        "    def speak(self):\n",
        "        print(\"Woof\")\n",
        "\n",
        "def animal_sound(animal):\n",
        "    animal.speak()\n",
        "\n",
        "\n",
        "# pemakaian\n",
        "cat = Cat()\n",
        "dog = Dog()\n",
        "\n",
        "animal_sound(cat)  # Meow\n",
        "animal_sound(dog)  # Woof\n"
      ]
    },
    {
      "cell_type": "markdown",
      "id": "b6adda7e",
      "metadata": {
        "id": "b6adda7e"
      },
      "source": [
        "## How to Use OOP in AI (Tanpa Bangun dari Nol)\n",
        "Dalam praktik machine learning & data science, kita sering memakai library OOP-based seperti pandas, scikit-learn, transformers, dll.\n",
        "\n",
        "Kita tidak perlu membangun class dari nol, cukup gunakan objek dan method yang tersedia.\n",
        "\n",
        "Contoh:"
      ]
    },
    {
      "cell_type": "code",
      "execution_count": null,
      "id": "1ca7c186",
      "metadata": {
        "id": "1ca7c186",
        "outputId": "1d6a92b2-e28e-46ee-e82b-78b6f6fe2af0"
      },
      "outputs": [
        {
          "name": "stdout",
          "output_type": "stream",
          "text": [
            "   Nama  Usia     Kota\n",
            "0  Aldi    25  Jakarta\n",
            "1  Nina    22  Bandung\n"
          ]
        }
      ],
      "source": [
        "import pandas as pd\n",
        "\n",
        "df = pd.read_csv('data.csv')     # 'df' adalah objek dari class DataFrame\n",
        "print(df.head())                 # .head() tetap method dari objek tersebut"
      ]
    },
    {
      "cell_type": "markdown",
      "id": "8d3fc5ac",
      "metadata": {
        "id": "8d3fc5ac"
      },
      "source": [
        "> Meskipun  tidak secara eksplisit menulis DataFrame(...), fungsi read_csv() di balik layar membuat dan mengembalikan object dari class DataFrame."
      ]
    },
    {
      "cell_type": "markdown",
      "id": "10f00841",
      "metadata": {
        "id": "10f00841"
      },
      "source": [
        "## Applying Existing OOP-based AI Libraries (Python)\n",
        "OOP-based library adalah pustaka Python yang dirancang berdasarkan konsep Object-Oriented Programming (OOP). Artinya, di dalamnya terdapat:\n",
        "- Class: Template/cetakan object\n",
        "- Object: Wujud nyata yang dibuat dari class\n",
        "- Method: Fungsi yang dimiliki object untuk melakukan sesuatu\n",
        "\n",
        "Contoh library AI/Data Science yang berbasis OOP:\n",
        "- scikit-learn – untuk Machine Learning\n",
        "- pandas – untuk manipulasi data\n",
        "- TextBlob – untuk analisis teks (sentiment analysis)\n",
        "- transformers (HuggingFace) – untuk NLP\n",
        "\n",
        "### Contoh Penggunaan: Sentiment Analysis\n",
        "Kita gunakan library TextBlob — library NLP yang OOP-based.\n"
      ]
    },
    {
      "cell_type": "code",
      "execution_count": 5,
      "id": "f5783294",
      "metadata": {
        "id": "f5783294"
      },
      "outputs": [
        {
          "name": "stderr",
          "output_type": "stream",
          "text": [
            "2025-06-12 13:06:53.737 WARNING streamlit.runtime.scriptrunner_utils.script_run_context: Thread 'MainThread': missing ScriptRunContext! This warning can be ignored when running in bare mode.\n",
            "2025-06-12 13:06:53.890 \n",
            "  \u001b[33m\u001b[1mWarning:\u001b[0m to view this Streamlit app on a browser, run it with the following\n",
            "  command:\n",
            "\n",
            "    streamlit run /home/codespace/.local/lib/python3.12/site-packages/ipykernel_launcher.py [ARGUMENTS]\n",
            "2025-06-12 13:06:53.891 Thread 'MainThread': missing ScriptRunContext! This warning can be ignored when running in bare mode.\n",
            "2025-06-12 13:06:53.892 Thread 'MainThread': missing ScriptRunContext! This warning can be ignored when running in bare mode.\n",
            "2025-06-12 13:06:53.894 Thread 'MainThread': missing ScriptRunContext! This warning can be ignored when running in bare mode.\n",
            "2025-06-12 13:06:53.895 Thread 'MainThread': missing ScriptRunContext! This warning can be ignored when running in bare mode.\n",
            "2025-06-12 13:06:53.897 Thread 'MainThread': missing ScriptRunContext! This warning can be ignored when running in bare mode.\n",
            "2025-06-12 13:06:53.897 Thread 'MainThread': missing ScriptRunContext! This warning can be ignored when running in bare mode.\n",
            "2025-06-12 13:06:53.901 Thread 'MainThread': missing ScriptRunContext! This warning can be ignored when running in bare mode.\n",
            "2025-06-12 13:06:53.902 Session state does not function when running a script without `streamlit run`\n",
            "2025-06-12 13:06:53.903 Thread 'MainThread': missing ScriptRunContext! This warning can be ignored when running in bare mode.\n",
            "2025-06-12 13:06:53.905 Thread 'MainThread': missing ScriptRunContext! This warning can be ignored when running in bare mode.\n",
            "2025-06-12 13:06:53.905 Thread 'MainThread': missing ScriptRunContext! This warning can be ignored when running in bare mode.\n",
            "2025-06-12 13:06:53.908 Thread 'MainThread': missing ScriptRunContext! This warning can be ignored when running in bare mode.\n",
            "2025-06-12 13:06:53.910 Thread 'MainThread': missing ScriptRunContext! This warning can be ignored when running in bare mode.\n",
            "2025-06-12 13:06:53.911 Thread 'MainThread': missing ScriptRunContext! This warning can be ignored when running in bare mode.\n",
            "2025-06-12 13:06:53.912 Thread 'MainThread': missing ScriptRunContext! This warning can be ignored when running in bare mode.\n"
          ]
        }
      ],
      "source": [
        "# 07-example-streamlit-oop.py\n",
        "import streamlit as st\n",
        "from textblob import TextBlob\n",
        "# TextBlob adalah Class dari library textblob, yang punya banyak method bawaan, termasuk .sentiment.\n",
        "\n",
        "st.title(\"🧠 Mood Checker dari Kalimatmu\")\n",
        "st.write(\"Coba tulis satu kalimat dan lihat AI menebak mood kamu! 🤖\")\n",
        "\n",
        "# Input dari user\n",
        "kalimat = st.text_input(\"➡️ Masukkan kalimatmu di sini:\")\n",
        "\n",
        "if st.button(\"Cek Mood\"):\n",
        "    if kalimat:\n",
        "        # Buat object TextBlob dari kalimat user\n",
        "        blob = TextBlob(kalimat)\n",
        "        hasil = blob.sentiment\n",
        "        #sentiment adalah method (fungsi bawaan dari class TextBlob) yang mengembalikan dua atribut penting:\n",
        "        # .polarity: nilai -1 sampai 1 (semakin positif → mood positif)\n",
        "        # .subjectivity: nilai 0 sampai 1 (semakin tinggi → semakin subjektif/emosional)\n",
        "\n",
        "        # Tampilkan hasil analisis\n",
        "        st.subheader(\"🔍 Hasil Analisis Mood:\")\n",
        "        st.write(f\"**Polarity** (positif/negatif): `{hasil.polarity}`\")\n",
        "        st.write(f\"**Subjectivity** (emosi pribadi): `{hasil.subjectivity}`\")\n",
        "\n",
        "        # Interpretasi mood\n",
        "        if hasil.polarity > 0:\n",
        "            st.success(\"✅ Mood kamu POSITIF! Semangat terus ya!\")\n",
        "        elif hasil.polarity < 0:\n",
        "            st.error(\"❌ Mood kamu NEGATIF... coba istirahat sebentar yuk.\")\n",
        "        else:\n",
        "            st.info(\"😐 Mood kamu NETRAL. Boleh jadi kamu lagi mikir keras!\")\n",
        "\n",
        "        # Bonus ekspresi emosional\n",
        "        rating = int(hasil.subjectivity * 10)\n",
        "        st.write(f\"📊 Tingkat emosional ekspresi: `{rating}/10`\")\n",
        "    else:\n",
        "        st.warning(\"Masukkan kalimat dulu yuk!\")"
      ]
    },
    {
      "cell_type": "markdown",
      "id": "206f48a4",
      "metadata": {
        "id": "206f48a4"
      },
      "source": [
        "Penjelasan\n",
        "\n",
        "![Visualisasi OOP](TextBlob.png)\n",
        "\n",
        "\n",
        "\n",
        "\n",
        "\n",
        "| Konsep OOP     | Contoh di Code                        | Penjelasan                                                                 |\n",
        "|----------------|----------------------------------------|----------------------------------------------------------------------------|\n",
        "| **Class**      | `TextBlob`                             | Blueprint (cetakan) untuk membuat object.                                 |\n",
        "| **Object**     | `blob = TextBlob(\"Aku senang\")`        | Object yang dibuat dari class, berisi data dan bisa melakukan aksi.       |\n",
        "| **Method**     | `blob.sentiment`                       | Fungsi yang bisa dipanggil dari object untuk menganalisis sesuatu.        |\n",
        "| **Atribut**    | `.polarity`, `.subjectivity`           | Nilai hasil dari method `.sentiment`, berupa skor mood & subjektivitas.   |"
      ]
    },
    {
      "cell_type": "markdown",
      "id": "47c00cd5",
      "metadata": {
        "id": "47c00cd5"
      },
      "source": [
        "# Tantangan\n",
        "Yuk kerjakan tantangan di bawah ini! Sebelum mengerjakan tantangan, jangan lupa masukkan student ID kamu ya!"
      ]
    },
    {
      "cell_type": "code",
      "execution_count": null,
      "id": "8efa68ca",
      "metadata": {
        "id": "8efa68ca"
      },
      "outputs": [],
      "source": [
        "%pip install rggrader\n",
        "\n",
        "from rggrader import submit\n",
        "\n",
        "# @title #### Student Identity\n",
        "student_id = \"your_student_id\"  # @param {type:\"string\"}\n",
        "name = \"your_name\"  # @param {type:\"string\"}"
      ]
    },
    {
      "cell_type": "markdown",
      "id": "ba5a2c21",
      "metadata": {
        "id": "ba5a2c21"
      },
      "source": [
        "## Tantangan 1 - Summarization dengan Hugging Face"
      ]
    },
    {
      "cell_type": "code",
      "execution_count": null,
      "id": "53dc238c",
      "metadata": {
        "id": "53dc238c"
      },
      "outputs": [],
      "source": [
        "from transformers import pipeline\n",
        "from rggrader import submit\n",
        "\n",
        "# TODO:\n",
        "# Gunakan pipeline \"summarization\" dari Hugging Face untuk membuat object bernama `summarizer`\n",
        "# yang bisa merangkum teks panjang menjadi lebih singkat.\n",
        "# Kemudian gunakan object tersebut untuk merangkum teks berikut:\n",
        "\n",
        "text = \"\"\"\n",
        "The rapid advancement of artificial intelligence (AI) has made a significant impact on numerous industries,\n",
        "including healthcare, finance, and transportation. AI technologies, such as machine learning, deep learning,\n",
        "and natural language processing, have led to the development of innovative solutions that enhance productivity,\n",
        "improve decision-making, and streamline operations. In healthcare, AI is used to analyze medical data, assist in\n",
        "diagnosis, and personalize treatment plans. In finance, AI is employed for fraud detection, risk assessment,\n",
        "and automated trading. Transportation is also experiencing a transformation with the integration of AI-powered\n",
        "autonomous vehicles, which aim to improve road safety and reduce traffic congestion.\n",
        "\"\"\"\n",
        "\n",
        "# ---- Tulis kode kamu di bawah sini ----\n",
        "\n",
        "\n",
        "\n",
        "# ---- Akhir kode kamu ----\n",
        "\n",
        "summary = summarizer(text)[0]['summary_text']  # Ambil ringkasan\n",
        "print(f\"Summary: {summary}\")\n",
        "\n",
        "# Submit\n",
        "assignment_id = \"07-oop\"\n",
        "question_id = \"01_text-summarization\"\n",
        "submit(student_id, name, assignment_id, summary, question_id)\n",
        "\n",
        "# Expected Output:\n",
        "# Artificial intelligence (AI) is transforming industries like healthcare, finance, and transportation.\n",
        "# AI technologies, such as machine learning and deep learning, enhance productivity, improve decision-making,\n",
        "# and streamline operations. In healthcare, AI analyzes medical data and assists in diagnosis. In finance, AI\n",
        "# detects fraud and assesses risk. Autonomous vehicles powered by AI are improving road safety and reducing\n",
        "# traffic congestion in transportation.\n"
      ]
    }
  ],
  "metadata": {
    "colab": {
      "provenance": []
    },
    "kernelspec": {
      "display_name": "Python 3",
      "language": "python",
      "name": "python3"
    },
    "language_info": {
      "codemirror_mode": {
        "name": "ipython",
        "version": 3
      },
      "file_extension": ".py",
      "mimetype": "text/x-python",
      "name": "python",
      "nbconvert_exporter": "python",
      "pygments_lexer": "ipython3",
      "version": "3.12.1"
    }
  },
  "nbformat": 4,
  "nbformat_minor": 5
}
