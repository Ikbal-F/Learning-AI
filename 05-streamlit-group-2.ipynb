{
 "cells": [
  {
   "cell_type": "markdown",
   "id": "4d82b5ed",
   "metadata": {},
   "source": [
    "# Group 2: Aplikasi Tebak Umur\n",
    "\n",
    "## 📅 Studi Kasus:\n",
    "\n",
    "Seorang siswa ingin tahu umur temannya berdasarkan tahun lahir. Buat aplikasi sederhana untuk menghitung umur saat ini.\n",
    "\n",
    "## Tujuan:\n",
    "\t•\tInput: tahun lahir\n",
    "\t•\tOutput: umur sekarang"
   ]
  }
 ],
 "metadata": {
  "kernelspec": {
   "display_name": "Python 3",
   "language": "python",
   "name": "python3"
  },
  "language_info": {
   "codemirror_mode": {
    "name": "ipython",
    "version": 3
   },
   "file_extension": ".py",
   "mimetype": "text/x-python",
   "name": "python",
   "nbconvert_exporter": "python",
   "pygments_lexer": "ipython3",
   "version": "3.12.1"
  }
 },
 "nbformat": 4,
 "nbformat_minor": 5
}
