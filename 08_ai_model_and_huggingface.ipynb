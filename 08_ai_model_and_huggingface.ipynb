{
  "cells": [
    {
      "cell_type": "markdown",
      "id": "a4aeaca4",
      "metadata": {
        "id": "a4aeaca4"
      },
      "source": [
        "# AI Model & Hugging Face\n",
        "## Introduction to AI Models\n",
        "### Apa itu AI Model?\n",
        "\n",
        "AI model adalah program atau algoritma yang dilatih dengan data untuk melakukan tugas tertentu secara otomatis, misalnya:\n",
        "- Mengenali gambar (Image Classification)\n",
        "- Menerjemahkan bahasa (Machine Translation)\n",
        "- Menjawab pertanyaan (Question Answering)\n",
        "- Menganalisis emosi dari teks (Sentiment Analysis)"
      ]
    },
    {
      "cell_type": "markdown",
      "id": "71cc2589",
      "metadata": {
        "id": "71cc2589"
      },
      "source": [
        "### Jenis-Jenis AI Model Populer:\n",
        "| **Jenis Model**      | **Deskripsi Singkat**                                    | **Contoh**                          |\n",
        "|----------------------|----------------------------------------------------------|-------------------------------------|\n",
        "| Classification       | Memprediksi label dari input                             | Spam vs Not Spam                    |\n",
        "| Regression           | Memprediksi angka atau nilai                             | Prediksi harga rumah                |\n",
        "| NLP Model            | Memproses teks dan bahasa                                | Chatbot, Sentiment Analysis         |\n",
        "| Vision Model         | Mengenali objek atau wajah dalam gambar                 | Face recognition                    |\n",
        "| Generative Model     | Menghasilkan teks, gambar, dll dari input tertentu       | ChatGPT, DALL·E                     |"
      ]
    },
    {
      "cell_type": "markdown",
      "id": "34e7b2bf",
      "metadata": {
        "id": "34e7b2bf"
      },
      "source": [
        "## Exploring Hugging Face\n",
        "Hugging Face adalah platform dan library open-source yang menyediakan:\n",
        "- Model AI siap pakai (Text, Image, Audio, dll)\n",
        "- API untuk menjalankan model tanpa harus latih ulang\n",
        "- Hosting model gratis dari komunitas\n",
        "\n",
        "🔗 Website: https://huggingface.co"
      ]
    },
    {
      "cell_type": "markdown",
      "id": "ab687450",
      "metadata": {
        "id": "ab687450"
      },
      "source": [
        "### Kenapa Pakai Hugging Face?\n",
        "- Model sudah dilatih → Hemat waktu & resource\n",
        "- Banyak dokumentasi → Mudah dipelajari pemula\n",
        "- Bisa langsung coba dari website\n",
        "- Support Python dan Streamlit\n"
      ]
    },
    {
      "cell_type": "markdown",
      "id": "747efbb9",
      "metadata": {
        "id": "747efbb9"
      },
      "source": [
        "### Studi Kasus\n",
        "| **Studi Kasus**             | **Deskripsi**                                                       | **Model yang Bisa Dipakai di Hugging Face**                         |\n",
        "|-----------------------------|---------------------------------------------------------------------|----------------------------------------------------------------------|\n",
        "| Analisis Emosi Chat         | Menentukan apakah pesan bersifat positif/negatif/netral            | `distilbert-base-uncased-finetuned-sst-2-english`                   |\n",
        "| Deteksi Topik dari Kalimat  | Menebak topik pembicaraan dari teks                                | `zero-shot-classification` (seperti BART, RoBERTa)                  |\n",
        "| Terjemahan Otomatis         | Menerjemahkan teks Indonesia ke Inggris (dan sebaliknya)           | `Helsinki-NLP/opus-mt-id-en`                                        |\n",
        "| Chatbot Sederhana           | Membangun chatbot menggunakan model language generation             | `microsoft/DialoGPT` atau `facebook/blenderbot`                    |\n",
        "| Ringkasan Teks Otomatis     | Menyederhanakan artikel panjang menjadi poin-poin penting          | `facebook/bart-large-cnn`                                           |\n",
        "| Deteksi Hate Speech         | Mengetahui apakah teks mengandung ujaran kebencian                 | `Hate-speech-CNERG/bert-base-uncased-hatexplain`                    |"
      ]
    },
    {
      "cell_type": "markdown",
      "id": "07d695c5",
      "metadata": {
        "id": "07d695c5"
      },
      "source": [
        "### Project - Image Caption Generator\n",
        "**Konsep Project**\n",
        "\n",
        "Kita akan menggunakan model dari Hugging Face untuk membuat deskripsi otomatis dari gambar yang diunggah pengguna.\n",
        "\n",
        "Tools:\n",
        "- Hugging Face Transformers (pipeline)\n",
        "- Model: nlpconnect/vit-gpt2-image-captioning\n",
        "- Streamlit: Untuk UI sederhana agar user bisa upload gambar dan langsung dapat caption-nya.\n",
        "\n",
        "Instalasi yang Dibutuhkan\n",
        "```py\n",
        "pip install streamlit transformers torch torchvision pillow\n",
        "```"
      ]
    },
    {
      "cell_type": "markdown",
      "id": "2bea0434",
      "metadata": {
        "id": "2bea0434"
      },
      "source": [
        "## Implementasi Model AI dari Hugging Face\n",
        "\n",
        "### 1. Instalasi Library\n",
        "Sebelum mulai, install library yang dibutuhkan:"
      ]
    },
    {
      "cell_type": "code",
      "execution_count": null,
      "id": "49a1de1c",
      "metadata": {
        "id": "49a1de1c"
      },
      "outputs": [],
      "source": [
        "%pip install transformers torch pillow"
      ]
    },
    {
      "cell_type": "markdown",
      "id": "f026a3de",
      "metadata": {
        "id": "f026a3de"
      },
      "source": [
        "### 2. Use Case: Image Captioning\n",
        "Mari coba model untuk membuat caption dari gambar:"
      ]
    },
    {
      "cell_type": "code",
      "execution_count": null,
      "id": "150c37fd",
      "metadata": {
        "id": "150c37fd"
      },
      "outputs": [],
      "source": [
        "from transformers import pipeline\n",
        "from PIL import Image\n",
        "\n",
        "# Load model image captioning\n",
        "image_to_text = pipeline(\"image-to-text\", model=\"nlpconnect/vit-gpt2-image-captioning\")\n",
        "\n",
        "# Load dan analisis gambar\n",
        "image_path = \"path/to/your/image.jpg\"\n",
        "image = Image.open(image_path)\n",
        "caption = image_to_text(image)[0]['generated_text']\n",
        "print(f\"Caption: {caption}\")"
      ]
    },
    {
      "cell_type": "markdown",
      "id": "23ba0ad0",
      "metadata": {
        "id": "23ba0ad0"
      },
      "source": [
        "# Tantangan\n",
        "Yuk kerjakan tantangan di bawah ini! Sebelum mengerjakan tantangan, jangan lupa masukkan student ID kamu ya!"
      ]
    },
    {
      "cell_type": "code",
      "execution_count": null,
      "id": "cda4a00a",
      "metadata": {
        "id": "cda4a00a"
      },
      "outputs": [],
      "source": [
        "%pip install rggrader\n",
        "\n",
        "from rggrader import submit\n",
        "\n",
        "# @title #### Student Identity\n",
        "student_id = \"your_student_id\"  # @param {type:\"string\"}\n",
        "name = \"your_name\"  # @param {type:\"string\"}"
      ]
    },
    {
      "cell_type": "markdown",
      "id": "260f0449",
      "metadata": {
        "id": "260f0449"
      },
      "source": [
        "## Tantangan 1: Klasifikasi Sentimen Teks dengan Hugging Face"
      ]
    },
    {
      "cell_type": "code",
      "execution_count": null,
      "id": "cb8ea38f",
      "metadata": {
        "id": "cb8ea38f"
      },
      "outputs": [],
      "source": [
        "%pip install transformers torch"
      ]
    },
    {
      "cell_type": "code",
      "execution_count": null,
      "id": "f691fe70",
      "metadata": {
        "id": "f691fe70"
      },
      "outputs": [],
      "source": [
        "from rggrader import submit\n",
        "from transformers import pipeline\n",
        "\n",
        "# Deskripsi soal:\n",
        "# Dalam tugas ini, kamu diminta untuk menggunakan model Hugging Face untuk mengklasifikasikan sentimen dari kalimat yang diberikan.\n",
        "# Model yang akan digunakan adalah model **BERT** untuk **sentiment analysis**.\n",
        "# Kalimat yang diberikan akan diklasifikasikan apakah memiliki sentimen **positif** atau **negatif**.\n",
        "\n",
        "# TODO: Lengkapi fungsi `classify_sentiment` untuk mengklasifikasikan teks ke dalam kategori 'positif' atau 'negatif'.\n",
        "\n",
        "def classify_sentiment(text):\n",
        "    # ---- Tulis kode kamu di bawah sini ----\n",
        "    sentiment_pipeline = pipeline(\"sentiment-analysis\")\n",
        "    result = sentiment_pipeline(text)\n",
        "\n",
        "    # Ambil hasil klasifikasi dan kembalikan hasilnya\n",
        "    return result[0]['label']\n",
        "    # ---- Akhir dari kode kamu ----\n",
        "\n",
        "# Tes contoh input\n",
        "example_text = \"I love using Hugging Face models, they are amazing!\"\n",
        "sentiment = classify_sentiment(example_text)\n",
        "print(f\"Sentimen dari kalimat: {sentiment}\")\n",
        "\n",
        "# Submit Method\n",
        "assignment_id = \"08_ai-model-huggingface\"\n",
        "question_id = \"01_classify-sentiment\"\n",
        "submit(student_id, name, assignment_id, sentiment, question_id)\n",
        "\n",
        "# Expected Output:\n",
        "# Sentimen dari kalimat: POSITIVE\n"
      ]
    }
  ],
  "metadata": {
    "kernelspec": {
      "display_name": "myenv",
      "language": "python",
      "name": "python3"
    },
    "language_info": {
      "codemirror_mode": {
        "name": "ipython",
        "version": 3
      },
      "file_extension": ".py",
      "mimetype": "text/x-python",
      "name": "python",
      "nbconvert_exporter": "python",
      "pygments_lexer": "ipython3",
      "version": "3.10.16"
    },
    "colab": {
      "provenance": []
    }
  },
  "nbformat": 4,
  "nbformat_minor": 5
}